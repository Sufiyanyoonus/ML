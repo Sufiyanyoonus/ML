{
  "nbformat": 4,
  "nbformat_minor": 0,
  "metadata": {
    "colab": {
      "provenance": [],
      "mount_file_id": "1z_d-k7sf9ly1gztXgFc0RSk_9YdONYs7",
      "authorship_tag": "ABX9TyMBxAxEfuOAeB6ERCsbUVg8",
      "include_colab_link": true
    },
    "kernelspec": {
      "name": "python3",
      "display_name": "Python 3"
    },
    "language_info": {
      "name": "python"
    }
  },
  "cells": [
    {
      "cell_type": "markdown",
      "metadata": {
        "id": "view-in-github",
        "colab_type": "text"
      },
      "source": [
        "<a href=\"https://colab.research.google.com/github/Sufiyanyoonus/ML/blob/main/Formative_Assessment_(_Data_Preprocessing_).ipynb\" target=\"_parent\"><img src=\"https://colab.research.google.com/assets/colab-badge.svg\" alt=\"Open In Colab\"/></a>"
      ]
    },
    {
      "cell_type": "code",
      "execution_count": 137,
      "metadata": {
        "colab": {
          "base_uri": "https://localhost:8080/",
          "height": 424
        },
        "id": "PJkWxf9zI6t1",
        "outputId": "7968bed3-4160-466b-f2d8-e61d4b848294"
      },
      "outputs": [
        {
          "output_type": "execute_result",
          "data": {
            "text/plain": [
              "     Company   Age  Salary     Place Country  Gender\n",
              "0        TCS  20.0     NaN   Chennai   India       0\n",
              "1    Infosys  30.0     NaN    Mumbai   India       0\n",
              "2        TCS  35.0  2300.0  Calcutta   India       0\n",
              "3    Infosys  40.0  3000.0     Delhi   India       0\n",
              "4        TCS  23.0  4000.0    Mumbai   India       0\n",
              "..       ...   ...     ...       ...     ...     ...\n",
              "143      TCS  33.0  9024.0  Calcutta   India       1\n",
              "144  Infosys  22.0  8787.0  Calcutta   India       1\n",
              "145  Infosys  44.0  4034.0     Delhi   India       1\n",
              "146      TCS  33.0  5034.0    Mumbai   India       1\n",
              "147  Infosys  22.0  8202.0    Cochin   India       0\n",
              "\n",
              "[148 rows x 6 columns]"
            ],
            "text/html": [
              "\n",
              "  <div id=\"df-1bfdcdd8-5233-43f8-860c-098915804380\" class=\"colab-df-container\">\n",
              "    <div>\n",
              "<style scoped>\n",
              "    .dataframe tbody tr th:only-of-type {\n",
              "        vertical-align: middle;\n",
              "    }\n",
              "\n",
              "    .dataframe tbody tr th {\n",
              "        vertical-align: top;\n",
              "    }\n",
              "\n",
              "    .dataframe thead th {\n",
              "        text-align: right;\n",
              "    }\n",
              "</style>\n",
              "<table border=\"1\" class=\"dataframe\">\n",
              "  <thead>\n",
              "    <tr style=\"text-align: right;\">\n",
              "      <th></th>\n",
              "      <th>Company</th>\n",
              "      <th>Age</th>\n",
              "      <th>Salary</th>\n",
              "      <th>Place</th>\n",
              "      <th>Country</th>\n",
              "      <th>Gender</th>\n",
              "    </tr>\n",
              "  </thead>\n",
              "  <tbody>\n",
              "    <tr>\n",
              "      <th>0</th>\n",
              "      <td>TCS</td>\n",
              "      <td>20.0</td>\n",
              "      <td>NaN</td>\n",
              "      <td>Chennai</td>\n",
              "      <td>India</td>\n",
              "      <td>0</td>\n",
              "    </tr>\n",
              "    <tr>\n",
              "      <th>1</th>\n",
              "      <td>Infosys</td>\n",
              "      <td>30.0</td>\n",
              "      <td>NaN</td>\n",
              "      <td>Mumbai</td>\n",
              "      <td>India</td>\n",
              "      <td>0</td>\n",
              "    </tr>\n",
              "    <tr>\n",
              "      <th>2</th>\n",
              "      <td>TCS</td>\n",
              "      <td>35.0</td>\n",
              "      <td>2300.0</td>\n",
              "      <td>Calcutta</td>\n",
              "      <td>India</td>\n",
              "      <td>0</td>\n",
              "    </tr>\n",
              "    <tr>\n",
              "      <th>3</th>\n",
              "      <td>Infosys</td>\n",
              "      <td>40.0</td>\n",
              "      <td>3000.0</td>\n",
              "      <td>Delhi</td>\n",
              "      <td>India</td>\n",
              "      <td>0</td>\n",
              "    </tr>\n",
              "    <tr>\n",
              "      <th>4</th>\n",
              "      <td>TCS</td>\n",
              "      <td>23.0</td>\n",
              "      <td>4000.0</td>\n",
              "      <td>Mumbai</td>\n",
              "      <td>India</td>\n",
              "      <td>0</td>\n",
              "    </tr>\n",
              "    <tr>\n",
              "      <th>...</th>\n",
              "      <td>...</td>\n",
              "      <td>...</td>\n",
              "      <td>...</td>\n",
              "      <td>...</td>\n",
              "      <td>...</td>\n",
              "      <td>...</td>\n",
              "    </tr>\n",
              "    <tr>\n",
              "      <th>143</th>\n",
              "      <td>TCS</td>\n",
              "      <td>33.0</td>\n",
              "      <td>9024.0</td>\n",
              "      <td>Calcutta</td>\n",
              "      <td>India</td>\n",
              "      <td>1</td>\n",
              "    </tr>\n",
              "    <tr>\n",
              "      <th>144</th>\n",
              "      <td>Infosys</td>\n",
              "      <td>22.0</td>\n",
              "      <td>8787.0</td>\n",
              "      <td>Calcutta</td>\n",
              "      <td>India</td>\n",
              "      <td>1</td>\n",
              "    </tr>\n",
              "    <tr>\n",
              "      <th>145</th>\n",
              "      <td>Infosys</td>\n",
              "      <td>44.0</td>\n",
              "      <td>4034.0</td>\n",
              "      <td>Delhi</td>\n",
              "      <td>India</td>\n",
              "      <td>1</td>\n",
              "    </tr>\n",
              "    <tr>\n",
              "      <th>146</th>\n",
              "      <td>TCS</td>\n",
              "      <td>33.0</td>\n",
              "      <td>5034.0</td>\n",
              "      <td>Mumbai</td>\n",
              "      <td>India</td>\n",
              "      <td>1</td>\n",
              "    </tr>\n",
              "    <tr>\n",
              "      <th>147</th>\n",
              "      <td>Infosys</td>\n",
              "      <td>22.0</td>\n",
              "      <td>8202.0</td>\n",
              "      <td>Cochin</td>\n",
              "      <td>India</td>\n",
              "      <td>0</td>\n",
              "    </tr>\n",
              "  </tbody>\n",
              "</table>\n",
              "<p>148 rows × 6 columns</p>\n",
              "</div>\n",
              "    <div class=\"colab-df-buttons\">\n",
              "\n",
              "  <div class=\"colab-df-container\">\n",
              "    <button class=\"colab-df-convert\" onclick=\"convertToInteractive('df-1bfdcdd8-5233-43f8-860c-098915804380')\"\n",
              "            title=\"Convert this dataframe to an interactive table.\"\n",
              "            style=\"display:none;\">\n",
              "\n",
              "  <svg xmlns=\"http://www.w3.org/2000/svg\" height=\"24px\" viewBox=\"0 -960 960 960\">\n",
              "    <path d=\"M120-120v-720h720v720H120Zm60-500h600v-160H180v160Zm220 220h160v-160H400v160Zm0 220h160v-160H400v160ZM180-400h160v-160H180v160Zm440 0h160v-160H620v160ZM180-180h160v-160H180v160Zm440 0h160v-160H620v160Z\"/>\n",
              "  </svg>\n",
              "    </button>\n",
              "\n",
              "  <style>\n",
              "    .colab-df-container {\n",
              "      display:flex;\n",
              "      gap: 12px;\n",
              "    }\n",
              "\n",
              "    .colab-df-convert {\n",
              "      background-color: #E8F0FE;\n",
              "      border: none;\n",
              "      border-radius: 50%;\n",
              "      cursor: pointer;\n",
              "      display: none;\n",
              "      fill: #1967D2;\n",
              "      height: 32px;\n",
              "      padding: 0 0 0 0;\n",
              "      width: 32px;\n",
              "    }\n",
              "\n",
              "    .colab-df-convert:hover {\n",
              "      background-color: #E2EBFA;\n",
              "      box-shadow: 0px 1px 2px rgba(60, 64, 67, 0.3), 0px 1px 3px 1px rgba(60, 64, 67, 0.15);\n",
              "      fill: #174EA6;\n",
              "    }\n",
              "\n",
              "    .colab-df-buttons div {\n",
              "      margin-bottom: 4px;\n",
              "    }\n",
              "\n",
              "    [theme=dark] .colab-df-convert {\n",
              "      background-color: #3B4455;\n",
              "      fill: #D2E3FC;\n",
              "    }\n",
              "\n",
              "    [theme=dark] .colab-df-convert:hover {\n",
              "      background-color: #434B5C;\n",
              "      box-shadow: 0px 1px 3px 1px rgba(0, 0, 0, 0.15);\n",
              "      filter: drop-shadow(0px 1px 2px rgba(0, 0, 0, 0.3));\n",
              "      fill: #FFFFFF;\n",
              "    }\n",
              "  </style>\n",
              "\n",
              "    <script>\n",
              "      const buttonEl =\n",
              "        document.querySelector('#df-1bfdcdd8-5233-43f8-860c-098915804380 button.colab-df-convert');\n",
              "      buttonEl.style.display =\n",
              "        google.colab.kernel.accessAllowed ? 'block' : 'none';\n",
              "\n",
              "      async function convertToInteractive(key) {\n",
              "        const element = document.querySelector('#df-1bfdcdd8-5233-43f8-860c-098915804380');\n",
              "        const dataTable =\n",
              "          await google.colab.kernel.invokeFunction('convertToInteractive',\n",
              "                                                    [key], {});\n",
              "        if (!dataTable) return;\n",
              "\n",
              "        const docLinkHtml = 'Like what you see? Visit the ' +\n",
              "          '<a target=\"_blank\" href=https://colab.research.google.com/notebooks/data_table.ipynb>data table notebook</a>'\n",
              "          + ' to learn more about interactive tables.';\n",
              "        element.innerHTML = '';\n",
              "        dataTable['output_type'] = 'display_data';\n",
              "        await google.colab.output.renderOutput(dataTable, element);\n",
              "        const docLink = document.createElement('div');\n",
              "        docLink.innerHTML = docLinkHtml;\n",
              "        element.appendChild(docLink);\n",
              "      }\n",
              "    </script>\n",
              "  </div>\n",
              "\n",
              "\n",
              "<div id=\"df-8539c55f-b25b-46c7-beb7-3c424e2780d7\">\n",
              "  <button class=\"colab-df-quickchart\" onclick=\"quickchart('df-8539c55f-b25b-46c7-beb7-3c424e2780d7')\"\n",
              "            title=\"Suggest charts\"\n",
              "            style=\"display:none;\">\n",
              "\n",
              "<svg xmlns=\"http://www.w3.org/2000/svg\" height=\"24px\"viewBox=\"0 0 24 24\"\n",
              "     width=\"24px\">\n",
              "    <g>\n",
              "        <path d=\"M19 3H5c-1.1 0-2 .9-2 2v14c0 1.1.9 2 2 2h14c1.1 0 2-.9 2-2V5c0-1.1-.9-2-2-2zM9 17H7v-7h2v7zm4 0h-2V7h2v10zm4 0h-2v-4h2v4z\"/>\n",
              "    </g>\n",
              "</svg>\n",
              "  </button>\n",
              "\n",
              "<style>\n",
              "  .colab-df-quickchart {\n",
              "      --bg-color: #E8F0FE;\n",
              "      --fill-color: #1967D2;\n",
              "      --hover-bg-color: #E2EBFA;\n",
              "      --hover-fill-color: #174EA6;\n",
              "      --disabled-fill-color: #AAA;\n",
              "      --disabled-bg-color: #DDD;\n",
              "  }\n",
              "\n",
              "  [theme=dark] .colab-df-quickchart {\n",
              "      --bg-color: #3B4455;\n",
              "      --fill-color: #D2E3FC;\n",
              "      --hover-bg-color: #434B5C;\n",
              "      --hover-fill-color: #FFFFFF;\n",
              "      --disabled-bg-color: #3B4455;\n",
              "      --disabled-fill-color: #666;\n",
              "  }\n",
              "\n",
              "  .colab-df-quickchart {\n",
              "    background-color: var(--bg-color);\n",
              "    border: none;\n",
              "    border-radius: 50%;\n",
              "    cursor: pointer;\n",
              "    display: none;\n",
              "    fill: var(--fill-color);\n",
              "    height: 32px;\n",
              "    padding: 0;\n",
              "    width: 32px;\n",
              "  }\n",
              "\n",
              "  .colab-df-quickchart:hover {\n",
              "    background-color: var(--hover-bg-color);\n",
              "    box-shadow: 0 1px 2px rgba(60, 64, 67, 0.3), 0 1px 3px 1px rgba(60, 64, 67, 0.15);\n",
              "    fill: var(--button-hover-fill-color);\n",
              "  }\n",
              "\n",
              "  .colab-df-quickchart-complete:disabled,\n",
              "  .colab-df-quickchart-complete:disabled:hover {\n",
              "    background-color: var(--disabled-bg-color);\n",
              "    fill: var(--disabled-fill-color);\n",
              "    box-shadow: none;\n",
              "  }\n",
              "\n",
              "  .colab-df-spinner {\n",
              "    border: 2px solid var(--fill-color);\n",
              "    border-color: transparent;\n",
              "    border-bottom-color: var(--fill-color);\n",
              "    animation:\n",
              "      spin 1s steps(1) infinite;\n",
              "  }\n",
              "\n",
              "  @keyframes spin {\n",
              "    0% {\n",
              "      border-color: transparent;\n",
              "      border-bottom-color: var(--fill-color);\n",
              "      border-left-color: var(--fill-color);\n",
              "    }\n",
              "    20% {\n",
              "      border-color: transparent;\n",
              "      border-left-color: var(--fill-color);\n",
              "      border-top-color: var(--fill-color);\n",
              "    }\n",
              "    30% {\n",
              "      border-color: transparent;\n",
              "      border-left-color: var(--fill-color);\n",
              "      border-top-color: var(--fill-color);\n",
              "      border-right-color: var(--fill-color);\n",
              "    }\n",
              "    40% {\n",
              "      border-color: transparent;\n",
              "      border-right-color: var(--fill-color);\n",
              "      border-top-color: var(--fill-color);\n",
              "    }\n",
              "    60% {\n",
              "      border-color: transparent;\n",
              "      border-right-color: var(--fill-color);\n",
              "    }\n",
              "    80% {\n",
              "      border-color: transparent;\n",
              "      border-right-color: var(--fill-color);\n",
              "      border-bottom-color: var(--fill-color);\n",
              "    }\n",
              "    90% {\n",
              "      border-color: transparent;\n",
              "      border-bottom-color: var(--fill-color);\n",
              "    }\n",
              "  }\n",
              "</style>\n",
              "\n",
              "  <script>\n",
              "    async function quickchart(key) {\n",
              "      const quickchartButtonEl =\n",
              "        document.querySelector('#' + key + ' button');\n",
              "      quickchartButtonEl.disabled = true;  // To prevent multiple clicks.\n",
              "      quickchartButtonEl.classList.add('colab-df-spinner');\n",
              "      try {\n",
              "        const charts = await google.colab.kernel.invokeFunction(\n",
              "            'suggestCharts', [key], {});\n",
              "      } catch (error) {\n",
              "        console.error('Error during call to suggestCharts:', error);\n",
              "      }\n",
              "      quickchartButtonEl.classList.remove('colab-df-spinner');\n",
              "      quickchartButtonEl.classList.add('colab-df-quickchart-complete');\n",
              "    }\n",
              "    (() => {\n",
              "      let quickchartButtonEl =\n",
              "        document.querySelector('#df-8539c55f-b25b-46c7-beb7-3c424e2780d7 button');\n",
              "      quickchartButtonEl.style.display =\n",
              "        google.colab.kernel.accessAllowed ? 'block' : 'none';\n",
              "    })();\n",
              "  </script>\n",
              "</div>\n",
              "\n",
              "  <div id=\"id_83c9eb51-128a-4a0d-ade0-21d65dba8c60\">\n",
              "    <style>\n",
              "      .colab-df-generate {\n",
              "        background-color: #E8F0FE;\n",
              "        border: none;\n",
              "        border-radius: 50%;\n",
              "        cursor: pointer;\n",
              "        display: none;\n",
              "        fill: #1967D2;\n",
              "        height: 32px;\n",
              "        padding: 0 0 0 0;\n",
              "        width: 32px;\n",
              "      }\n",
              "\n",
              "      .colab-df-generate:hover {\n",
              "        background-color: #E2EBFA;\n",
              "        box-shadow: 0px 1px 2px rgba(60, 64, 67, 0.3), 0px 1px 3px 1px rgba(60, 64, 67, 0.15);\n",
              "        fill: #174EA6;\n",
              "      }\n",
              "\n",
              "      [theme=dark] .colab-df-generate {\n",
              "        background-color: #3B4455;\n",
              "        fill: #D2E3FC;\n",
              "      }\n",
              "\n",
              "      [theme=dark] .colab-df-generate:hover {\n",
              "        background-color: #434B5C;\n",
              "        box-shadow: 0px 1px 3px 1px rgba(0, 0, 0, 0.15);\n",
              "        filter: drop-shadow(0px 1px 2px rgba(0, 0, 0, 0.3));\n",
              "        fill: #FFFFFF;\n",
              "      }\n",
              "    </style>\n",
              "    <button class=\"colab-df-generate\" onclick=\"generateWithVariable('df')\"\n",
              "            title=\"Generate code using this dataframe.\"\n",
              "            style=\"display:none;\">\n",
              "\n",
              "  <svg xmlns=\"http://www.w3.org/2000/svg\" height=\"24px\"viewBox=\"0 0 24 24\"\n",
              "       width=\"24px\">\n",
              "    <path d=\"M7,19H8.4L18.45,9,17,7.55,7,17.6ZM5,21V16.75L18.45,3.32a2,2,0,0,1,2.83,0l1.4,1.43a1.91,1.91,0,0,1,.58,1.4,1.91,1.91,0,0,1-.58,1.4L9.25,21ZM18.45,9,17,7.55Zm-12,3A5.31,5.31,0,0,0,4.9,8.1,5.31,5.31,0,0,0,1,6.5,5.31,5.31,0,0,0,4.9,4.9,5.31,5.31,0,0,0,6.5,1,5.31,5.31,0,0,0,8.1,4.9,5.31,5.31,0,0,0,12,6.5,5.46,5.46,0,0,0,6.5,12Z\"/>\n",
              "  </svg>\n",
              "    </button>\n",
              "    <script>\n",
              "      (() => {\n",
              "      const buttonEl =\n",
              "        document.querySelector('#id_83c9eb51-128a-4a0d-ade0-21d65dba8c60 button.colab-df-generate');\n",
              "      buttonEl.style.display =\n",
              "        google.colab.kernel.accessAllowed ? 'block' : 'none';\n",
              "\n",
              "      buttonEl.onclick = () => {\n",
              "        google.colab.notebook.generateWithVariable('df');\n",
              "      }\n",
              "      })();\n",
              "    </script>\n",
              "  </div>\n",
              "\n",
              "    </div>\n",
              "  </div>\n"
            ],
            "application/vnd.google.colaboratory.intrinsic+json": {
              "type": "dataframe",
              "variable_name": "df",
              "summary": "{\n  \"name\": \"df\",\n  \"rows\": 148,\n  \"fields\": [\n    {\n      \"column\": \"Company\",\n      \"properties\": {\n        \"dtype\": \"category\",\n        \"num_unique_values\": 6,\n        \"samples\": [\n          \"TCS\",\n          \"Infosys\",\n          \"Infosys Pvt Lmt\"\n        ],\n        \"semantic_type\": \"\",\n        \"description\": \"\"\n      }\n    },\n    {\n      \"column\": \"Age\",\n      \"properties\": {\n        \"dtype\": \"number\",\n        \"std\": 11.096640049742982,\n        \"min\": 0.0,\n        \"max\": 54.0,\n        \"num_unique_values\": 29,\n        \"samples\": [\n          0.0,\n          41.0,\n          21.0\n        ],\n        \"semantic_type\": \"\",\n        \"description\": \"\"\n      }\n    },\n    {\n      \"column\": \"Salary\",\n      \"properties\": {\n        \"dtype\": \"number\",\n        \"std\": 2573.7646825666448,\n        \"min\": 1089.0,\n        \"max\": 9876.0,\n        \"num_unique_values\": 40,\n        \"samples\": [\n          9876.0,\n          8943.0,\n          7084.0\n        ],\n        \"semantic_type\": \"\",\n        \"description\": \"\"\n      }\n    },\n    {\n      \"column\": \"Place\",\n      \"properties\": {\n        \"dtype\": \"category\",\n        \"num_unique_values\": 11,\n        \"samples\": [\n          \"Cochin\",\n          \"Chennai\",\n          \"Nagpur\"\n        ],\n        \"semantic_type\": \"\",\n        \"description\": \"\"\n      }\n    },\n    {\n      \"column\": \"Country\",\n      \"properties\": {\n        \"dtype\": \"category\",\n        \"num_unique_values\": 1,\n        \"samples\": [\n          \"India\"\n        ],\n        \"semantic_type\": \"\",\n        \"description\": \"\"\n      }\n    },\n    {\n      \"column\": \"Gender\",\n      \"properties\": {\n        \"dtype\": \"number\",\n        \"std\": 0,\n        \"min\": 0,\n        \"max\": 1,\n        \"num_unique_values\": 2,\n        \"samples\": [\n          1\n        ],\n        \"semantic_type\": \"\",\n        \"description\": \"\"\n      }\n    }\n  ]\n}"
            }
          },
          "metadata": {},
          "execution_count": 137
        }
      ],
      "source": [
        "import pandas as pd\n",
        "\n",
        "path=\"/content/drive/MyDrive/Employee.csv\"\n",
        "df=pd.read_csv(path)\n",
        "df"
      ]
    },
    {
      "cell_type": "markdown",
      "source": [
        "#Data Exploration:\n",
        "##Explore the data, list down the unique values in each feature and find its length.\n",
        "##Perform the statistical analysis and renaming of the columns."
      ],
      "metadata": {
        "id": "iEsg75I4JGVC"
      }
    },
    {
      "cell_type": "code",
      "source": [
        "# shape of the dataset\n",
        "df.shape\n",
        "print(\"number of rows\",df.shape[0] )\n",
        "print(\"number of columns\",df.shape[1] )"
      ],
      "metadata": {
        "colab": {
          "base_uri": "https://localhost:8080/"
        },
        "id": "ODV6YgKuJJar",
        "outputId": "35f9ad56-9aef-4607-b886-6235811bd329"
      },
      "execution_count": 138,
      "outputs": [
        {
          "output_type": "stream",
          "name": "stdout",
          "text": [
            "number of rows 148\n",
            "number of columns 6\n"
          ]
        }
      ]
    },
    {
      "cell_type": "code",
      "source": [
        "df.info() # info of the dataset"
      ],
      "metadata": {
        "colab": {
          "base_uri": "https://localhost:8080/"
        },
        "id": "OPJbLbd6JPLR",
        "outputId": "0f1c0d1a-2c84-4533-d525-cf3314e37d21"
      },
      "execution_count": 139,
      "outputs": [
        {
          "output_type": "stream",
          "name": "stdout",
          "text": [
            "<class 'pandas.core.frame.DataFrame'>\n",
            "RangeIndex: 148 entries, 0 to 147\n",
            "Data columns (total 6 columns):\n",
            " #   Column   Non-Null Count  Dtype  \n",
            "---  ------   --------------  -----  \n",
            " 0   Company  140 non-null    object \n",
            " 1   Age      130 non-null    float64\n",
            " 2   Salary   124 non-null    float64\n",
            " 3   Place    134 non-null    object \n",
            " 4   Country  148 non-null    object \n",
            " 5   Gender   148 non-null    int64  \n",
            "dtypes: float64(2), int64(1), object(3)\n",
            "memory usage: 7.1+ KB\n"
          ]
        }
      ]
    },
    {
      "cell_type": "code",
      "source": [
        "# statestical analysis\n",
        "df.describe(include=\"all\")"
      ],
      "metadata": {
        "colab": {
          "base_uri": "https://localhost:8080/",
          "height": 394
        },
        "id": "OpFRPp7iJRtK",
        "outputId": "f1621f06-b5a9-4f25-ca2e-3c60e0d20551"
      },
      "execution_count": 140,
      "outputs": [
        {
          "output_type": "execute_result",
          "data": {
            "text/plain": [
              "       Company         Age       Salary   Place Country      Gender\n",
              "count      140  130.000000   124.000000     134     148  148.000000\n",
              "unique       6         NaN          NaN      11       1         NaN\n",
              "top        TCS         NaN          NaN  Mumbai   India         NaN\n",
              "freq        53         NaN          NaN      37     148         NaN\n",
              "mean       NaN   30.484615  5312.467742     NaN     NaN    0.222973\n",
              "std        NaN   11.096640  2573.764683     NaN     NaN    0.417654\n",
              "min        NaN    0.000000  1089.000000     NaN     NaN    0.000000\n",
              "25%        NaN   22.000000  3030.000000     NaN     NaN    0.000000\n",
              "50%        NaN   32.500000  5000.000000     NaN     NaN    0.000000\n",
              "75%        NaN   37.750000  8000.000000     NaN     NaN    0.000000\n",
              "max        NaN   54.000000  9876.000000     NaN     NaN    1.000000"
            ],
            "text/html": [
              "\n",
              "  <div id=\"df-41f92da7-a04c-4659-919e-d2277dd64036\" class=\"colab-df-container\">\n",
              "    <div>\n",
              "<style scoped>\n",
              "    .dataframe tbody tr th:only-of-type {\n",
              "        vertical-align: middle;\n",
              "    }\n",
              "\n",
              "    .dataframe tbody tr th {\n",
              "        vertical-align: top;\n",
              "    }\n",
              "\n",
              "    .dataframe thead th {\n",
              "        text-align: right;\n",
              "    }\n",
              "</style>\n",
              "<table border=\"1\" class=\"dataframe\">\n",
              "  <thead>\n",
              "    <tr style=\"text-align: right;\">\n",
              "      <th></th>\n",
              "      <th>Company</th>\n",
              "      <th>Age</th>\n",
              "      <th>Salary</th>\n",
              "      <th>Place</th>\n",
              "      <th>Country</th>\n",
              "      <th>Gender</th>\n",
              "    </tr>\n",
              "  </thead>\n",
              "  <tbody>\n",
              "    <tr>\n",
              "      <th>count</th>\n",
              "      <td>140</td>\n",
              "      <td>130.000000</td>\n",
              "      <td>124.000000</td>\n",
              "      <td>134</td>\n",
              "      <td>148</td>\n",
              "      <td>148.000000</td>\n",
              "    </tr>\n",
              "    <tr>\n",
              "      <th>unique</th>\n",
              "      <td>6</td>\n",
              "      <td>NaN</td>\n",
              "      <td>NaN</td>\n",
              "      <td>11</td>\n",
              "      <td>1</td>\n",
              "      <td>NaN</td>\n",
              "    </tr>\n",
              "    <tr>\n",
              "      <th>top</th>\n",
              "      <td>TCS</td>\n",
              "      <td>NaN</td>\n",
              "      <td>NaN</td>\n",
              "      <td>Mumbai</td>\n",
              "      <td>India</td>\n",
              "      <td>NaN</td>\n",
              "    </tr>\n",
              "    <tr>\n",
              "      <th>freq</th>\n",
              "      <td>53</td>\n",
              "      <td>NaN</td>\n",
              "      <td>NaN</td>\n",
              "      <td>37</td>\n",
              "      <td>148</td>\n",
              "      <td>NaN</td>\n",
              "    </tr>\n",
              "    <tr>\n",
              "      <th>mean</th>\n",
              "      <td>NaN</td>\n",
              "      <td>30.484615</td>\n",
              "      <td>5312.467742</td>\n",
              "      <td>NaN</td>\n",
              "      <td>NaN</td>\n",
              "      <td>0.222973</td>\n",
              "    </tr>\n",
              "    <tr>\n",
              "      <th>std</th>\n",
              "      <td>NaN</td>\n",
              "      <td>11.096640</td>\n",
              "      <td>2573.764683</td>\n",
              "      <td>NaN</td>\n",
              "      <td>NaN</td>\n",
              "      <td>0.417654</td>\n",
              "    </tr>\n",
              "    <tr>\n",
              "      <th>min</th>\n",
              "      <td>NaN</td>\n",
              "      <td>0.000000</td>\n",
              "      <td>1089.000000</td>\n",
              "      <td>NaN</td>\n",
              "      <td>NaN</td>\n",
              "      <td>0.000000</td>\n",
              "    </tr>\n",
              "    <tr>\n",
              "      <th>25%</th>\n",
              "      <td>NaN</td>\n",
              "      <td>22.000000</td>\n",
              "      <td>3030.000000</td>\n",
              "      <td>NaN</td>\n",
              "      <td>NaN</td>\n",
              "      <td>0.000000</td>\n",
              "    </tr>\n",
              "    <tr>\n",
              "      <th>50%</th>\n",
              "      <td>NaN</td>\n",
              "      <td>32.500000</td>\n",
              "      <td>5000.000000</td>\n",
              "      <td>NaN</td>\n",
              "      <td>NaN</td>\n",
              "      <td>0.000000</td>\n",
              "    </tr>\n",
              "    <tr>\n",
              "      <th>75%</th>\n",
              "      <td>NaN</td>\n",
              "      <td>37.750000</td>\n",
              "      <td>8000.000000</td>\n",
              "      <td>NaN</td>\n",
              "      <td>NaN</td>\n",
              "      <td>0.000000</td>\n",
              "    </tr>\n",
              "    <tr>\n",
              "      <th>max</th>\n",
              "      <td>NaN</td>\n",
              "      <td>54.000000</td>\n",
              "      <td>9876.000000</td>\n",
              "      <td>NaN</td>\n",
              "      <td>NaN</td>\n",
              "      <td>1.000000</td>\n",
              "    </tr>\n",
              "  </tbody>\n",
              "</table>\n",
              "</div>\n",
              "    <div class=\"colab-df-buttons\">\n",
              "\n",
              "  <div class=\"colab-df-container\">\n",
              "    <button class=\"colab-df-convert\" onclick=\"convertToInteractive('df-41f92da7-a04c-4659-919e-d2277dd64036')\"\n",
              "            title=\"Convert this dataframe to an interactive table.\"\n",
              "            style=\"display:none;\">\n",
              "\n",
              "  <svg xmlns=\"http://www.w3.org/2000/svg\" height=\"24px\" viewBox=\"0 -960 960 960\">\n",
              "    <path d=\"M120-120v-720h720v720H120Zm60-500h600v-160H180v160Zm220 220h160v-160H400v160Zm0 220h160v-160H400v160ZM180-400h160v-160H180v160Zm440 0h160v-160H620v160ZM180-180h160v-160H180v160Zm440 0h160v-160H620v160Z\"/>\n",
              "  </svg>\n",
              "    </button>\n",
              "\n",
              "  <style>\n",
              "    .colab-df-container {\n",
              "      display:flex;\n",
              "      gap: 12px;\n",
              "    }\n",
              "\n",
              "    .colab-df-convert {\n",
              "      background-color: #E8F0FE;\n",
              "      border: none;\n",
              "      border-radius: 50%;\n",
              "      cursor: pointer;\n",
              "      display: none;\n",
              "      fill: #1967D2;\n",
              "      height: 32px;\n",
              "      padding: 0 0 0 0;\n",
              "      width: 32px;\n",
              "    }\n",
              "\n",
              "    .colab-df-convert:hover {\n",
              "      background-color: #E2EBFA;\n",
              "      box-shadow: 0px 1px 2px rgba(60, 64, 67, 0.3), 0px 1px 3px 1px rgba(60, 64, 67, 0.15);\n",
              "      fill: #174EA6;\n",
              "    }\n",
              "\n",
              "    .colab-df-buttons div {\n",
              "      margin-bottom: 4px;\n",
              "    }\n",
              "\n",
              "    [theme=dark] .colab-df-convert {\n",
              "      background-color: #3B4455;\n",
              "      fill: #D2E3FC;\n",
              "    }\n",
              "\n",
              "    [theme=dark] .colab-df-convert:hover {\n",
              "      background-color: #434B5C;\n",
              "      box-shadow: 0px 1px 3px 1px rgba(0, 0, 0, 0.15);\n",
              "      filter: drop-shadow(0px 1px 2px rgba(0, 0, 0, 0.3));\n",
              "      fill: #FFFFFF;\n",
              "    }\n",
              "  </style>\n",
              "\n",
              "    <script>\n",
              "      const buttonEl =\n",
              "        document.querySelector('#df-41f92da7-a04c-4659-919e-d2277dd64036 button.colab-df-convert');\n",
              "      buttonEl.style.display =\n",
              "        google.colab.kernel.accessAllowed ? 'block' : 'none';\n",
              "\n",
              "      async function convertToInteractive(key) {\n",
              "        const element = document.querySelector('#df-41f92da7-a04c-4659-919e-d2277dd64036');\n",
              "        const dataTable =\n",
              "          await google.colab.kernel.invokeFunction('convertToInteractive',\n",
              "                                                    [key], {});\n",
              "        if (!dataTable) return;\n",
              "\n",
              "        const docLinkHtml = 'Like what you see? Visit the ' +\n",
              "          '<a target=\"_blank\" href=https://colab.research.google.com/notebooks/data_table.ipynb>data table notebook</a>'\n",
              "          + ' to learn more about interactive tables.';\n",
              "        element.innerHTML = '';\n",
              "        dataTable['output_type'] = 'display_data';\n",
              "        await google.colab.output.renderOutput(dataTable, element);\n",
              "        const docLink = document.createElement('div');\n",
              "        docLink.innerHTML = docLinkHtml;\n",
              "        element.appendChild(docLink);\n",
              "      }\n",
              "    </script>\n",
              "  </div>\n",
              "\n",
              "\n",
              "<div id=\"df-9ee375c6-7fbd-4ba5-b585-fd14c21c3b63\">\n",
              "  <button class=\"colab-df-quickchart\" onclick=\"quickchart('df-9ee375c6-7fbd-4ba5-b585-fd14c21c3b63')\"\n",
              "            title=\"Suggest charts\"\n",
              "            style=\"display:none;\">\n",
              "\n",
              "<svg xmlns=\"http://www.w3.org/2000/svg\" height=\"24px\"viewBox=\"0 0 24 24\"\n",
              "     width=\"24px\">\n",
              "    <g>\n",
              "        <path d=\"M19 3H5c-1.1 0-2 .9-2 2v14c0 1.1.9 2 2 2h14c1.1 0 2-.9 2-2V5c0-1.1-.9-2-2-2zM9 17H7v-7h2v7zm4 0h-2V7h2v10zm4 0h-2v-4h2v4z\"/>\n",
              "    </g>\n",
              "</svg>\n",
              "  </button>\n",
              "\n",
              "<style>\n",
              "  .colab-df-quickchart {\n",
              "      --bg-color: #E8F0FE;\n",
              "      --fill-color: #1967D2;\n",
              "      --hover-bg-color: #E2EBFA;\n",
              "      --hover-fill-color: #174EA6;\n",
              "      --disabled-fill-color: #AAA;\n",
              "      --disabled-bg-color: #DDD;\n",
              "  }\n",
              "\n",
              "  [theme=dark] .colab-df-quickchart {\n",
              "      --bg-color: #3B4455;\n",
              "      --fill-color: #D2E3FC;\n",
              "      --hover-bg-color: #434B5C;\n",
              "      --hover-fill-color: #FFFFFF;\n",
              "      --disabled-bg-color: #3B4455;\n",
              "      --disabled-fill-color: #666;\n",
              "  }\n",
              "\n",
              "  .colab-df-quickchart {\n",
              "    background-color: var(--bg-color);\n",
              "    border: none;\n",
              "    border-radius: 50%;\n",
              "    cursor: pointer;\n",
              "    display: none;\n",
              "    fill: var(--fill-color);\n",
              "    height: 32px;\n",
              "    padding: 0;\n",
              "    width: 32px;\n",
              "  }\n",
              "\n",
              "  .colab-df-quickchart:hover {\n",
              "    background-color: var(--hover-bg-color);\n",
              "    box-shadow: 0 1px 2px rgba(60, 64, 67, 0.3), 0 1px 3px 1px rgba(60, 64, 67, 0.15);\n",
              "    fill: var(--button-hover-fill-color);\n",
              "  }\n",
              "\n",
              "  .colab-df-quickchart-complete:disabled,\n",
              "  .colab-df-quickchart-complete:disabled:hover {\n",
              "    background-color: var(--disabled-bg-color);\n",
              "    fill: var(--disabled-fill-color);\n",
              "    box-shadow: none;\n",
              "  }\n",
              "\n",
              "  .colab-df-spinner {\n",
              "    border: 2px solid var(--fill-color);\n",
              "    border-color: transparent;\n",
              "    border-bottom-color: var(--fill-color);\n",
              "    animation:\n",
              "      spin 1s steps(1) infinite;\n",
              "  }\n",
              "\n",
              "  @keyframes spin {\n",
              "    0% {\n",
              "      border-color: transparent;\n",
              "      border-bottom-color: var(--fill-color);\n",
              "      border-left-color: var(--fill-color);\n",
              "    }\n",
              "    20% {\n",
              "      border-color: transparent;\n",
              "      border-left-color: var(--fill-color);\n",
              "      border-top-color: var(--fill-color);\n",
              "    }\n",
              "    30% {\n",
              "      border-color: transparent;\n",
              "      border-left-color: var(--fill-color);\n",
              "      border-top-color: var(--fill-color);\n",
              "      border-right-color: var(--fill-color);\n",
              "    }\n",
              "    40% {\n",
              "      border-color: transparent;\n",
              "      border-right-color: var(--fill-color);\n",
              "      border-top-color: var(--fill-color);\n",
              "    }\n",
              "    60% {\n",
              "      border-color: transparent;\n",
              "      border-right-color: var(--fill-color);\n",
              "    }\n",
              "    80% {\n",
              "      border-color: transparent;\n",
              "      border-right-color: var(--fill-color);\n",
              "      border-bottom-color: var(--fill-color);\n",
              "    }\n",
              "    90% {\n",
              "      border-color: transparent;\n",
              "      border-bottom-color: var(--fill-color);\n",
              "    }\n",
              "  }\n",
              "</style>\n",
              "\n",
              "  <script>\n",
              "    async function quickchart(key) {\n",
              "      const quickchartButtonEl =\n",
              "        document.querySelector('#' + key + ' button');\n",
              "      quickchartButtonEl.disabled = true;  // To prevent multiple clicks.\n",
              "      quickchartButtonEl.classList.add('colab-df-spinner');\n",
              "      try {\n",
              "        const charts = await google.colab.kernel.invokeFunction(\n",
              "            'suggestCharts', [key], {});\n",
              "      } catch (error) {\n",
              "        console.error('Error during call to suggestCharts:', error);\n",
              "      }\n",
              "      quickchartButtonEl.classList.remove('colab-df-spinner');\n",
              "      quickchartButtonEl.classList.add('colab-df-quickchart-complete');\n",
              "    }\n",
              "    (() => {\n",
              "      let quickchartButtonEl =\n",
              "        document.querySelector('#df-9ee375c6-7fbd-4ba5-b585-fd14c21c3b63 button');\n",
              "      quickchartButtonEl.style.display =\n",
              "        google.colab.kernel.accessAllowed ? 'block' : 'none';\n",
              "    })();\n",
              "  </script>\n",
              "</div>\n",
              "\n",
              "    </div>\n",
              "  </div>\n"
            ],
            "application/vnd.google.colaboratory.intrinsic+json": {
              "type": "dataframe",
              "summary": "{\n  \"name\": \"df\",\n  \"rows\": 11,\n  \"fields\": [\n    {\n      \"column\": \"Company\",\n      \"properties\": {\n        \"dtype\": \"category\",\n        \"num_unique_values\": 4,\n        \"samples\": [\n          6,\n          \"53\",\n          \"140\"\n        ],\n        \"semantic_type\": \"\",\n        \"description\": \"\"\n      }\n    },\n    {\n      \"column\": \"Age\",\n      \"properties\": {\n        \"dtype\": \"number\",\n        \"std\": 40.011911314309074,\n        \"min\": 0.0,\n        \"max\": 130.0,\n        \"num_unique_values\": 8,\n        \"samples\": [\n          30.484615384615385,\n          32.5,\n          130.0\n        ],\n        \"semantic_type\": \"\",\n        \"description\": \"\"\n      }\n    },\n    {\n      \"column\": \"Salary\",\n      \"properties\": {\n        \"dtype\": \"number\",\n        \"std\": 3350.764603866143,\n        \"min\": 124.0,\n        \"max\": 9876.0,\n        \"num_unique_values\": 8,\n        \"samples\": [\n          5312.467741935484,\n          5000.0,\n          124.0\n        ],\n        \"semantic_type\": \"\",\n        \"description\": \"\"\n      }\n    },\n    {\n      \"column\": \"Place\",\n      \"properties\": {\n        \"dtype\": \"category\",\n        \"num_unique_values\": 4,\n        \"samples\": [\n          11,\n          \"37\",\n          \"134\"\n        ],\n        \"semantic_type\": \"\",\n        \"description\": \"\"\n      }\n    },\n    {\n      \"column\": \"Country\",\n      \"properties\": {\n        \"dtype\": \"category\",\n        \"num_unique_values\": 3,\n        \"samples\": [\n          \"148\",\n          1,\n          \"India\"\n        ],\n        \"semantic_type\": \"\",\n        \"description\": \"\"\n      }\n    },\n    {\n      \"column\": \"Gender\",\n      \"properties\": {\n        \"dtype\": \"number\",\n        \"std\": 52.244185604789706,\n        \"min\": 0.0,\n        \"max\": 148.0,\n        \"num_unique_values\": 5,\n        \"samples\": [\n          0.22297297297297297,\n          1.0,\n          0.41765373064340394\n        ],\n        \"semantic_type\": \"\",\n        \"description\": \"\"\n      }\n    }\n  ]\n}"
            }
          },
          "metadata": {},
          "execution_count": 140
        }
      ]
    },
    {
      "cell_type": "code",
      "source": [
        "# all coolumns\n",
        "df.columns"
      ],
      "metadata": {
        "colab": {
          "base_uri": "https://localhost:8080/"
        },
        "id": "XSWDnGrJJVMk",
        "outputId": "f240dfef-6321-4e63-fa72-c79d146175e0"
      },
      "execution_count": 141,
      "outputs": [
        {
          "output_type": "execute_result",
          "data": {
            "text/plain": [
              "Index(['Company', 'Age', 'Salary', 'Place', 'Country', 'Gender'], dtype='object')"
            ]
          },
          "metadata": {},
          "execution_count": 141
        }
      ]
    },
    {
      "cell_type": "code",
      "source": [
        "# unique features\n",
        "\n",
        "# through for loop iterater each columns and unique values\n",
        "\n",
        "def unique_values(df):\n",
        "  for column in df.columns:\n",
        "   print(f\"The unique values in '{column}' :{df[column].unique()} length :  {df[column].nunique()}\\n\")\n",
        "unique_values(df)"
      ],
      "metadata": {
        "colab": {
          "base_uri": "https://localhost:8080/"
        },
        "id": "uBMCPMUiJX0R",
        "outputId": "5d7a4c6b-e656-45aa-db2a-502fd0af46ff"
      },
      "execution_count": 77,
      "outputs": [
        {
          "output_type": "stream",
          "name": "stdout",
          "text": [
            "The unique values in 'Company' :['TCS' 'Infosys' 'CTS' nan 'Tata Consultancy Services' 'Congnizant'\n",
            " 'Infosys Pvt Lmt'] length :  6\n",
            "\n",
            "The unique values in 'Age' :[20. 30. 35. 40. 23. nan 34. 45. 18. 22. 32. 37. 50. 21. 46. 36. 26. 41.\n",
            " 24. 25. 43. 19. 38. 51. 31. 44. 33. 17.  0. 54.] length :  29\n",
            "\n",
            "The unique values in 'Salary' :[  nan 2300. 3000. 4000. 5000. 6000. 7000. 8000. 9000. 1089. 1234. 3030.\n",
            " 3045. 3184. 4824. 5835. 7084. 8943. 8345. 9284. 9876. 2034. 7654. 2934.\n",
            " 4034. 5034. 8202. 9024. 4345. 6544. 6543. 3234. 4324. 5435. 5555. 8787.\n",
            " 3454. 5654. 5009. 5098. 3033.] length :  40\n",
            "\n",
            "The unique values in 'Place' :['Chennai' 'Mumbai' 'Calcutta' 'Delhi' 'Podicherry' 'Cochin' nan 'Noida'\n",
            " 'Hyderabad' 'Bhopal' 'Nagpur' 'Pune'] length :  11\n",
            "\n",
            "The unique values in 'Country' :['India'] length :  1\n",
            "\n",
            "The unique values in 'Gender' :[0 1] length :  2\n",
            "\n"
          ]
        }
      ]
    },
    {
      "cell_type": "code",
      "source": [
        "# renaming\n",
        "\n",
        "df.rename(columns={\"Company\":\"firm\"},inplace=True)\n",
        "print(\"After renaming\",df.columns)\n",
        "df['firm'] = df['firm'].replace('Infosys Pvt Lmt','Infosys')\n",
        "df['firm'] = df['firm'].replace('Tata Consultancy Services','TCS')\n",
        "df['firm'] = df['firm'].replace('Congnizant','CT')\n",
        "df"
      ],
      "metadata": {
        "colab": {
          "base_uri": "https://localhost:8080/",
          "height": 441
        },
        "id": "SE67zvyuJdGZ",
        "outputId": "caef4a9a-f95a-4502-d7c1-6963c6e4aeee"
      },
      "execution_count": 142,
      "outputs": [
        {
          "output_type": "stream",
          "name": "stdout",
          "text": [
            "After renaming Index(['firm', 'Age', 'Salary', 'Place', 'Country', 'Gender'], dtype='object')\n"
          ]
        },
        {
          "output_type": "execute_result",
          "data": {
            "text/plain": [
              "        firm   Age  Salary     Place Country  Gender\n",
              "0        TCS  20.0     NaN   Chennai   India       0\n",
              "1    Infosys  30.0     NaN    Mumbai   India       0\n",
              "2        TCS  35.0  2300.0  Calcutta   India       0\n",
              "3    Infosys  40.0  3000.0     Delhi   India       0\n",
              "4        TCS  23.0  4000.0    Mumbai   India       0\n",
              "..       ...   ...     ...       ...     ...     ...\n",
              "143      TCS  33.0  9024.0  Calcutta   India       1\n",
              "144  Infosys  22.0  8787.0  Calcutta   India       1\n",
              "145  Infosys  44.0  4034.0     Delhi   India       1\n",
              "146      TCS  33.0  5034.0    Mumbai   India       1\n",
              "147  Infosys  22.0  8202.0    Cochin   India       0\n",
              "\n",
              "[148 rows x 6 columns]"
            ],
            "text/html": [
              "\n",
              "  <div id=\"df-df5bd2f7-42db-4281-a345-3068b279400b\" class=\"colab-df-container\">\n",
              "    <div>\n",
              "<style scoped>\n",
              "    .dataframe tbody tr th:only-of-type {\n",
              "        vertical-align: middle;\n",
              "    }\n",
              "\n",
              "    .dataframe tbody tr th {\n",
              "        vertical-align: top;\n",
              "    }\n",
              "\n",
              "    .dataframe thead th {\n",
              "        text-align: right;\n",
              "    }\n",
              "</style>\n",
              "<table border=\"1\" class=\"dataframe\">\n",
              "  <thead>\n",
              "    <tr style=\"text-align: right;\">\n",
              "      <th></th>\n",
              "      <th>firm</th>\n",
              "      <th>Age</th>\n",
              "      <th>Salary</th>\n",
              "      <th>Place</th>\n",
              "      <th>Country</th>\n",
              "      <th>Gender</th>\n",
              "    </tr>\n",
              "  </thead>\n",
              "  <tbody>\n",
              "    <tr>\n",
              "      <th>0</th>\n",
              "      <td>TCS</td>\n",
              "      <td>20.0</td>\n",
              "      <td>NaN</td>\n",
              "      <td>Chennai</td>\n",
              "      <td>India</td>\n",
              "      <td>0</td>\n",
              "    </tr>\n",
              "    <tr>\n",
              "      <th>1</th>\n",
              "      <td>Infosys</td>\n",
              "      <td>30.0</td>\n",
              "      <td>NaN</td>\n",
              "      <td>Mumbai</td>\n",
              "      <td>India</td>\n",
              "      <td>0</td>\n",
              "    </tr>\n",
              "    <tr>\n",
              "      <th>2</th>\n",
              "      <td>TCS</td>\n",
              "      <td>35.0</td>\n",
              "      <td>2300.0</td>\n",
              "      <td>Calcutta</td>\n",
              "      <td>India</td>\n",
              "      <td>0</td>\n",
              "    </tr>\n",
              "    <tr>\n",
              "      <th>3</th>\n",
              "      <td>Infosys</td>\n",
              "      <td>40.0</td>\n",
              "      <td>3000.0</td>\n",
              "      <td>Delhi</td>\n",
              "      <td>India</td>\n",
              "      <td>0</td>\n",
              "    </tr>\n",
              "    <tr>\n",
              "      <th>4</th>\n",
              "      <td>TCS</td>\n",
              "      <td>23.0</td>\n",
              "      <td>4000.0</td>\n",
              "      <td>Mumbai</td>\n",
              "      <td>India</td>\n",
              "      <td>0</td>\n",
              "    </tr>\n",
              "    <tr>\n",
              "      <th>...</th>\n",
              "      <td>...</td>\n",
              "      <td>...</td>\n",
              "      <td>...</td>\n",
              "      <td>...</td>\n",
              "      <td>...</td>\n",
              "      <td>...</td>\n",
              "    </tr>\n",
              "    <tr>\n",
              "      <th>143</th>\n",
              "      <td>TCS</td>\n",
              "      <td>33.0</td>\n",
              "      <td>9024.0</td>\n",
              "      <td>Calcutta</td>\n",
              "      <td>India</td>\n",
              "      <td>1</td>\n",
              "    </tr>\n",
              "    <tr>\n",
              "      <th>144</th>\n",
              "      <td>Infosys</td>\n",
              "      <td>22.0</td>\n",
              "      <td>8787.0</td>\n",
              "      <td>Calcutta</td>\n",
              "      <td>India</td>\n",
              "      <td>1</td>\n",
              "    </tr>\n",
              "    <tr>\n",
              "      <th>145</th>\n",
              "      <td>Infosys</td>\n",
              "      <td>44.0</td>\n",
              "      <td>4034.0</td>\n",
              "      <td>Delhi</td>\n",
              "      <td>India</td>\n",
              "      <td>1</td>\n",
              "    </tr>\n",
              "    <tr>\n",
              "      <th>146</th>\n",
              "      <td>TCS</td>\n",
              "      <td>33.0</td>\n",
              "      <td>5034.0</td>\n",
              "      <td>Mumbai</td>\n",
              "      <td>India</td>\n",
              "      <td>1</td>\n",
              "    </tr>\n",
              "    <tr>\n",
              "      <th>147</th>\n",
              "      <td>Infosys</td>\n",
              "      <td>22.0</td>\n",
              "      <td>8202.0</td>\n",
              "      <td>Cochin</td>\n",
              "      <td>India</td>\n",
              "      <td>0</td>\n",
              "    </tr>\n",
              "  </tbody>\n",
              "</table>\n",
              "<p>148 rows × 6 columns</p>\n",
              "</div>\n",
              "    <div class=\"colab-df-buttons\">\n",
              "\n",
              "  <div class=\"colab-df-container\">\n",
              "    <button class=\"colab-df-convert\" onclick=\"convertToInteractive('df-df5bd2f7-42db-4281-a345-3068b279400b')\"\n",
              "            title=\"Convert this dataframe to an interactive table.\"\n",
              "            style=\"display:none;\">\n",
              "\n",
              "  <svg xmlns=\"http://www.w3.org/2000/svg\" height=\"24px\" viewBox=\"0 -960 960 960\">\n",
              "    <path d=\"M120-120v-720h720v720H120Zm60-500h600v-160H180v160Zm220 220h160v-160H400v160Zm0 220h160v-160H400v160ZM180-400h160v-160H180v160Zm440 0h160v-160H620v160ZM180-180h160v-160H180v160Zm440 0h160v-160H620v160Z\"/>\n",
              "  </svg>\n",
              "    </button>\n",
              "\n",
              "  <style>\n",
              "    .colab-df-container {\n",
              "      display:flex;\n",
              "      gap: 12px;\n",
              "    }\n",
              "\n",
              "    .colab-df-convert {\n",
              "      background-color: #E8F0FE;\n",
              "      border: none;\n",
              "      border-radius: 50%;\n",
              "      cursor: pointer;\n",
              "      display: none;\n",
              "      fill: #1967D2;\n",
              "      height: 32px;\n",
              "      padding: 0 0 0 0;\n",
              "      width: 32px;\n",
              "    }\n",
              "\n",
              "    .colab-df-convert:hover {\n",
              "      background-color: #E2EBFA;\n",
              "      box-shadow: 0px 1px 2px rgba(60, 64, 67, 0.3), 0px 1px 3px 1px rgba(60, 64, 67, 0.15);\n",
              "      fill: #174EA6;\n",
              "    }\n",
              "\n",
              "    .colab-df-buttons div {\n",
              "      margin-bottom: 4px;\n",
              "    }\n",
              "\n",
              "    [theme=dark] .colab-df-convert {\n",
              "      background-color: #3B4455;\n",
              "      fill: #D2E3FC;\n",
              "    }\n",
              "\n",
              "    [theme=dark] .colab-df-convert:hover {\n",
              "      background-color: #434B5C;\n",
              "      box-shadow: 0px 1px 3px 1px rgba(0, 0, 0, 0.15);\n",
              "      filter: drop-shadow(0px 1px 2px rgba(0, 0, 0, 0.3));\n",
              "      fill: #FFFFFF;\n",
              "    }\n",
              "  </style>\n",
              "\n",
              "    <script>\n",
              "      const buttonEl =\n",
              "        document.querySelector('#df-df5bd2f7-42db-4281-a345-3068b279400b button.colab-df-convert');\n",
              "      buttonEl.style.display =\n",
              "        google.colab.kernel.accessAllowed ? 'block' : 'none';\n",
              "\n",
              "      async function convertToInteractive(key) {\n",
              "        const element = document.querySelector('#df-df5bd2f7-42db-4281-a345-3068b279400b');\n",
              "        const dataTable =\n",
              "          await google.colab.kernel.invokeFunction('convertToInteractive',\n",
              "                                                    [key], {});\n",
              "        if (!dataTable) return;\n",
              "\n",
              "        const docLinkHtml = 'Like what you see? Visit the ' +\n",
              "          '<a target=\"_blank\" href=https://colab.research.google.com/notebooks/data_table.ipynb>data table notebook</a>'\n",
              "          + ' to learn more about interactive tables.';\n",
              "        element.innerHTML = '';\n",
              "        dataTable['output_type'] = 'display_data';\n",
              "        await google.colab.output.renderOutput(dataTable, element);\n",
              "        const docLink = document.createElement('div');\n",
              "        docLink.innerHTML = docLinkHtml;\n",
              "        element.appendChild(docLink);\n",
              "      }\n",
              "    </script>\n",
              "  </div>\n",
              "\n",
              "\n",
              "<div id=\"df-6fdb9288-394d-42bd-9fef-a62457d82681\">\n",
              "  <button class=\"colab-df-quickchart\" onclick=\"quickchart('df-6fdb9288-394d-42bd-9fef-a62457d82681')\"\n",
              "            title=\"Suggest charts\"\n",
              "            style=\"display:none;\">\n",
              "\n",
              "<svg xmlns=\"http://www.w3.org/2000/svg\" height=\"24px\"viewBox=\"0 0 24 24\"\n",
              "     width=\"24px\">\n",
              "    <g>\n",
              "        <path d=\"M19 3H5c-1.1 0-2 .9-2 2v14c0 1.1.9 2 2 2h14c1.1 0 2-.9 2-2V5c0-1.1-.9-2-2-2zM9 17H7v-7h2v7zm4 0h-2V7h2v10zm4 0h-2v-4h2v4z\"/>\n",
              "    </g>\n",
              "</svg>\n",
              "  </button>\n",
              "\n",
              "<style>\n",
              "  .colab-df-quickchart {\n",
              "      --bg-color: #E8F0FE;\n",
              "      --fill-color: #1967D2;\n",
              "      --hover-bg-color: #E2EBFA;\n",
              "      --hover-fill-color: #174EA6;\n",
              "      --disabled-fill-color: #AAA;\n",
              "      --disabled-bg-color: #DDD;\n",
              "  }\n",
              "\n",
              "  [theme=dark] .colab-df-quickchart {\n",
              "      --bg-color: #3B4455;\n",
              "      --fill-color: #D2E3FC;\n",
              "      --hover-bg-color: #434B5C;\n",
              "      --hover-fill-color: #FFFFFF;\n",
              "      --disabled-bg-color: #3B4455;\n",
              "      --disabled-fill-color: #666;\n",
              "  }\n",
              "\n",
              "  .colab-df-quickchart {\n",
              "    background-color: var(--bg-color);\n",
              "    border: none;\n",
              "    border-radius: 50%;\n",
              "    cursor: pointer;\n",
              "    display: none;\n",
              "    fill: var(--fill-color);\n",
              "    height: 32px;\n",
              "    padding: 0;\n",
              "    width: 32px;\n",
              "  }\n",
              "\n",
              "  .colab-df-quickchart:hover {\n",
              "    background-color: var(--hover-bg-color);\n",
              "    box-shadow: 0 1px 2px rgba(60, 64, 67, 0.3), 0 1px 3px 1px rgba(60, 64, 67, 0.15);\n",
              "    fill: var(--button-hover-fill-color);\n",
              "  }\n",
              "\n",
              "  .colab-df-quickchart-complete:disabled,\n",
              "  .colab-df-quickchart-complete:disabled:hover {\n",
              "    background-color: var(--disabled-bg-color);\n",
              "    fill: var(--disabled-fill-color);\n",
              "    box-shadow: none;\n",
              "  }\n",
              "\n",
              "  .colab-df-spinner {\n",
              "    border: 2px solid var(--fill-color);\n",
              "    border-color: transparent;\n",
              "    border-bottom-color: var(--fill-color);\n",
              "    animation:\n",
              "      spin 1s steps(1) infinite;\n",
              "  }\n",
              "\n",
              "  @keyframes spin {\n",
              "    0% {\n",
              "      border-color: transparent;\n",
              "      border-bottom-color: var(--fill-color);\n",
              "      border-left-color: var(--fill-color);\n",
              "    }\n",
              "    20% {\n",
              "      border-color: transparent;\n",
              "      border-left-color: var(--fill-color);\n",
              "      border-top-color: var(--fill-color);\n",
              "    }\n",
              "    30% {\n",
              "      border-color: transparent;\n",
              "      border-left-color: var(--fill-color);\n",
              "      border-top-color: var(--fill-color);\n",
              "      border-right-color: var(--fill-color);\n",
              "    }\n",
              "    40% {\n",
              "      border-color: transparent;\n",
              "      border-right-color: var(--fill-color);\n",
              "      border-top-color: var(--fill-color);\n",
              "    }\n",
              "    60% {\n",
              "      border-color: transparent;\n",
              "      border-right-color: var(--fill-color);\n",
              "    }\n",
              "    80% {\n",
              "      border-color: transparent;\n",
              "      border-right-color: var(--fill-color);\n",
              "      border-bottom-color: var(--fill-color);\n",
              "    }\n",
              "    90% {\n",
              "      border-color: transparent;\n",
              "      border-bottom-color: var(--fill-color);\n",
              "    }\n",
              "  }\n",
              "</style>\n",
              "\n",
              "  <script>\n",
              "    async function quickchart(key) {\n",
              "      const quickchartButtonEl =\n",
              "        document.querySelector('#' + key + ' button');\n",
              "      quickchartButtonEl.disabled = true;  // To prevent multiple clicks.\n",
              "      quickchartButtonEl.classList.add('colab-df-spinner');\n",
              "      try {\n",
              "        const charts = await google.colab.kernel.invokeFunction(\n",
              "            'suggestCharts', [key], {});\n",
              "      } catch (error) {\n",
              "        console.error('Error during call to suggestCharts:', error);\n",
              "      }\n",
              "      quickchartButtonEl.classList.remove('colab-df-spinner');\n",
              "      quickchartButtonEl.classList.add('colab-df-quickchart-complete');\n",
              "    }\n",
              "    (() => {\n",
              "      let quickchartButtonEl =\n",
              "        document.querySelector('#df-6fdb9288-394d-42bd-9fef-a62457d82681 button');\n",
              "      quickchartButtonEl.style.display =\n",
              "        google.colab.kernel.accessAllowed ? 'block' : 'none';\n",
              "    })();\n",
              "  </script>\n",
              "</div>\n",
              "\n",
              "  <div id=\"id_91f6cf67-d85d-477b-b5e8-cd96129bbe51\">\n",
              "    <style>\n",
              "      .colab-df-generate {\n",
              "        background-color: #E8F0FE;\n",
              "        border: none;\n",
              "        border-radius: 50%;\n",
              "        cursor: pointer;\n",
              "        display: none;\n",
              "        fill: #1967D2;\n",
              "        height: 32px;\n",
              "        padding: 0 0 0 0;\n",
              "        width: 32px;\n",
              "      }\n",
              "\n",
              "      .colab-df-generate:hover {\n",
              "        background-color: #E2EBFA;\n",
              "        box-shadow: 0px 1px 2px rgba(60, 64, 67, 0.3), 0px 1px 3px 1px rgba(60, 64, 67, 0.15);\n",
              "        fill: #174EA6;\n",
              "      }\n",
              "\n",
              "      [theme=dark] .colab-df-generate {\n",
              "        background-color: #3B4455;\n",
              "        fill: #D2E3FC;\n",
              "      }\n",
              "\n",
              "      [theme=dark] .colab-df-generate:hover {\n",
              "        background-color: #434B5C;\n",
              "        box-shadow: 0px 1px 3px 1px rgba(0, 0, 0, 0.15);\n",
              "        filter: drop-shadow(0px 1px 2px rgba(0, 0, 0, 0.3));\n",
              "        fill: #FFFFFF;\n",
              "      }\n",
              "    </style>\n",
              "    <button class=\"colab-df-generate\" onclick=\"generateWithVariable('df')\"\n",
              "            title=\"Generate code using this dataframe.\"\n",
              "            style=\"display:none;\">\n",
              "\n",
              "  <svg xmlns=\"http://www.w3.org/2000/svg\" height=\"24px\"viewBox=\"0 0 24 24\"\n",
              "       width=\"24px\">\n",
              "    <path d=\"M7,19H8.4L18.45,9,17,7.55,7,17.6ZM5,21V16.75L18.45,3.32a2,2,0,0,1,2.83,0l1.4,1.43a1.91,1.91,0,0,1,.58,1.4,1.91,1.91,0,0,1-.58,1.4L9.25,21ZM18.45,9,17,7.55Zm-12,3A5.31,5.31,0,0,0,4.9,8.1,5.31,5.31,0,0,0,1,6.5,5.31,5.31,0,0,0,4.9,4.9,5.31,5.31,0,0,0,6.5,1,5.31,5.31,0,0,0,8.1,4.9,5.31,5.31,0,0,0,12,6.5,5.46,5.46,0,0,0,6.5,12Z\"/>\n",
              "  </svg>\n",
              "    </button>\n",
              "    <script>\n",
              "      (() => {\n",
              "      const buttonEl =\n",
              "        document.querySelector('#id_91f6cf67-d85d-477b-b5e8-cd96129bbe51 button.colab-df-generate');\n",
              "      buttonEl.style.display =\n",
              "        google.colab.kernel.accessAllowed ? 'block' : 'none';\n",
              "\n",
              "      buttonEl.onclick = () => {\n",
              "        google.colab.notebook.generateWithVariable('df');\n",
              "      }\n",
              "      })();\n",
              "    </script>\n",
              "  </div>\n",
              "\n",
              "    </div>\n",
              "  </div>\n"
            ],
            "application/vnd.google.colaboratory.intrinsic+json": {
              "type": "dataframe",
              "variable_name": "df",
              "summary": "{\n  \"name\": \"df\",\n  \"rows\": 148,\n  \"fields\": [\n    {\n      \"column\": \"firm\",\n      \"properties\": {\n        \"dtype\": \"category\",\n        \"num_unique_values\": 4,\n        \"samples\": [\n          \"Infosys\",\n          \"CT\",\n          \"TCS\"\n        ],\n        \"semantic_type\": \"\",\n        \"description\": \"\"\n      }\n    },\n    {\n      \"column\": \"Age\",\n      \"properties\": {\n        \"dtype\": \"number\",\n        \"std\": 11.096640049742982,\n        \"min\": 0.0,\n        \"max\": 54.0,\n        \"num_unique_values\": 29,\n        \"samples\": [\n          0.0,\n          41.0,\n          21.0\n        ],\n        \"semantic_type\": \"\",\n        \"description\": \"\"\n      }\n    },\n    {\n      \"column\": \"Salary\",\n      \"properties\": {\n        \"dtype\": \"number\",\n        \"std\": 2573.7646825666448,\n        \"min\": 1089.0,\n        \"max\": 9876.0,\n        \"num_unique_values\": 40,\n        \"samples\": [\n          9876.0,\n          8943.0,\n          7084.0\n        ],\n        \"semantic_type\": \"\",\n        \"description\": \"\"\n      }\n    },\n    {\n      \"column\": \"Place\",\n      \"properties\": {\n        \"dtype\": \"category\",\n        \"num_unique_values\": 11,\n        \"samples\": [\n          \"Cochin\",\n          \"Chennai\",\n          \"Nagpur\"\n        ],\n        \"semantic_type\": \"\",\n        \"description\": \"\"\n      }\n    },\n    {\n      \"column\": \"Country\",\n      \"properties\": {\n        \"dtype\": \"category\",\n        \"num_unique_values\": 1,\n        \"samples\": [\n          \"India\"\n        ],\n        \"semantic_type\": \"\",\n        \"description\": \"\"\n      }\n    },\n    {\n      \"column\": \"Gender\",\n      \"properties\": {\n        \"dtype\": \"number\",\n        \"std\": 0,\n        \"min\": 0,\n        \"max\": 1,\n        \"num_unique_values\": 2,\n        \"samples\": [\n          1\n        ],\n        \"semantic_type\": \"\",\n        \"description\": \"\"\n      }\n    }\n  ]\n}"
            }
          },
          "metadata": {},
          "execution_count": 142
        }
      ]
    },
    {
      "cell_type": "markdown",
      "source": [
        "##Find the missing and inappropriate values, treat them appropriately.\n",
        "##Remove all duplicate rows.\n",
        "##Find the outliers.\n",
        "##Replace the value 0 in age as NaN\n",
        "##Treat the null values in all columns using any measures(removing/ replace the values with mean/median/mode)"
      ],
      "metadata": {
        "id": "ilpOdbxQKNgd"
      }
    },
    {
      "cell_type": "code",
      "source": [
        "df.drop_duplicates(inplace=True) # removing the duplicates from the data frame"
      ],
      "metadata": {
        "id": "MSbyS0w0J1Oq"
      },
      "execution_count": 143,
      "outputs": []
    },
    {
      "cell_type": "code",
      "source": [
        "df.isnull().sum() # taking the um of the missing values in each column"
      ],
      "metadata": {
        "colab": {
          "base_uri": "https://localhost:8080/",
          "height": 272
        },
        "id": "G0wRMAdvKjHS",
        "outputId": "b0113719-1d42-45bd-c5e6-6ed86ac04c98"
      },
      "execution_count": 144,
      "outputs": [
        {
          "output_type": "execute_result",
          "data": {
            "text/plain": [
              "firm        8\n",
              "Age        17\n",
              "Salary     23\n",
              "Place      14\n",
              "Country     0\n",
              "Gender      0\n",
              "dtype: int64"
            ],
            "text/html": [
              "<div>\n",
              "<style scoped>\n",
              "    .dataframe tbody tr th:only-of-type {\n",
              "        vertical-align: middle;\n",
              "    }\n",
              "\n",
              "    .dataframe tbody tr th {\n",
              "        vertical-align: top;\n",
              "    }\n",
              "\n",
              "    .dataframe thead th {\n",
              "        text-align: right;\n",
              "    }\n",
              "</style>\n",
              "<table border=\"1\" class=\"dataframe\">\n",
              "  <thead>\n",
              "    <tr style=\"text-align: right;\">\n",
              "      <th></th>\n",
              "      <th>0</th>\n",
              "    </tr>\n",
              "  </thead>\n",
              "  <tbody>\n",
              "    <tr>\n",
              "      <th>firm</th>\n",
              "      <td>8</td>\n",
              "    </tr>\n",
              "    <tr>\n",
              "      <th>Age</th>\n",
              "      <td>17</td>\n",
              "    </tr>\n",
              "    <tr>\n",
              "      <th>Salary</th>\n",
              "      <td>23</td>\n",
              "    </tr>\n",
              "    <tr>\n",
              "      <th>Place</th>\n",
              "      <td>14</td>\n",
              "    </tr>\n",
              "    <tr>\n",
              "      <th>Country</th>\n",
              "      <td>0</td>\n",
              "    </tr>\n",
              "    <tr>\n",
              "      <th>Gender</th>\n",
              "      <td>0</td>\n",
              "    </tr>\n",
              "  </tbody>\n",
              "</table>\n",
              "</div><br><label><b>dtype:</b> int64</label>"
            ]
          },
          "metadata": {},
          "execution_count": 144
        }
      ]
    },
    {
      "cell_type": "code",
      "source": [
        "df[\"firm\"]=df['firm'].fillna(\"Unknown\") # treating the Nan values in column name firm by replacing the unknown\n",
        "print(df)"
      ],
      "metadata": {
        "colab": {
          "base_uri": "https://localhost:8080/"
        },
        "id": "D6bZ1ropKsjQ",
        "outputId": "37923939-d069-411e-82d3-e6ce8a2aff06"
      },
      "execution_count": 145,
      "outputs": [
        {
          "output_type": "stream",
          "name": "stdout",
          "text": [
            "        firm   Age  Salary     Place Country  Gender\n",
            "0        TCS  20.0     NaN   Chennai   India       0\n",
            "1    Infosys  30.0     NaN    Mumbai   India       0\n",
            "2        TCS  35.0  2300.0  Calcutta   India       0\n",
            "3    Infosys  40.0  3000.0     Delhi   India       0\n",
            "4        TCS  23.0  4000.0    Mumbai   India       0\n",
            "..       ...   ...     ...       ...     ...     ...\n",
            "142  Infosys  22.0  8202.0    Mumbai   India       0\n",
            "143      TCS  33.0  9024.0  Calcutta   India       1\n",
            "145  Infosys  44.0  4034.0     Delhi   India       1\n",
            "146      TCS  33.0  5034.0    Mumbai   India       1\n",
            "147  Infosys  22.0  8202.0    Cochin   India       0\n",
            "\n",
            "[144 rows x 6 columns]\n"
          ]
        }
      ]
    },
    {
      "cell_type": "code",
      "source": [
        "import numpy as np\n",
        "# Replace 0 values with NaN\n",
        "df['Age'].replace(0, np.nan, inplace=True)\n",
        "\n",
        "# replacing the age column with its respective  median\n",
        "\n",
        "median_age=df['Age'].median()\n",
        "df[\"Age\"]=df['Age'].fillna(median_age)\n",
        "print(df['Age'])"
      ],
      "metadata": {
        "colab": {
          "base_uri": "https://localhost:8080/"
        },
        "id": "8585-oTBLS6g",
        "outputId": "41a75050-34cf-427b-9c0e-8142aeb31f00"
      },
      "execution_count": 146,
      "outputs": [
        {
          "output_type": "stream",
          "name": "stdout",
          "text": [
            "0      20.0\n",
            "1      30.0\n",
            "2      35.0\n",
            "3      40.0\n",
            "4      23.0\n",
            "       ... \n",
            "142    22.0\n",
            "143    33.0\n",
            "145    44.0\n",
            "146    33.0\n",
            "147    22.0\n",
            "Name: Age, Length: 144, dtype: float64\n"
          ]
        }
      ]
    },
    {
      "cell_type": "code",
      "source": [
        "median_salary=df['Salary'].median()\n",
        "df['Salary'].fillna(median_salary,inplace=True)\n",
        "print(df['Salary'])"
      ],
      "metadata": {
        "colab": {
          "base_uri": "https://localhost:8080/"
        },
        "id": "i3An_gb9NA0H",
        "outputId": "b9244b0d-ba61-4823-e03c-4670442c912b"
      },
      "execution_count": 147,
      "outputs": [
        {
          "output_type": "stream",
          "name": "stdout",
          "text": [
            "0      5000.0\n",
            "1      5000.0\n",
            "2      2300.0\n",
            "3      3000.0\n",
            "4      4000.0\n",
            "        ...  \n",
            "142    8202.0\n",
            "143    9024.0\n",
            "145    4034.0\n",
            "146    5034.0\n",
            "147    8202.0\n",
            "Name: Salary, Length: 144, dtype: float64\n"
          ]
        }
      ]
    },
    {
      "cell_type": "code",
      "source": [
        "df['Place'].fillna(\"Unknown\",inplace=True) # treating the Nan values in column name firm by replacing the unknown\n",
        "print(df)"
      ],
      "metadata": {
        "colab": {
          "base_uri": "https://localhost:8080/"
        },
        "id": "G5rsKFS8Ndn3",
        "outputId": "b397a94e-e94e-4028-894a-831b706d93a1"
      },
      "execution_count": 148,
      "outputs": [
        {
          "output_type": "stream",
          "name": "stdout",
          "text": [
            "        firm   Age  Salary     Place Country  Gender\n",
            "0        TCS  20.0  5000.0   Chennai   India       0\n",
            "1    Infosys  30.0  5000.0    Mumbai   India       0\n",
            "2        TCS  35.0  2300.0  Calcutta   India       0\n",
            "3    Infosys  40.0  3000.0     Delhi   India       0\n",
            "4        TCS  23.0  4000.0    Mumbai   India       0\n",
            "..       ...   ...     ...       ...     ...     ...\n",
            "142  Infosys  22.0  8202.0    Mumbai   India       0\n",
            "143      TCS  33.0  9024.0  Calcutta   India       1\n",
            "145  Infosys  44.0  4034.0     Delhi   India       1\n",
            "146      TCS  33.0  5034.0    Mumbai   India       1\n",
            "147  Infosys  22.0  8202.0    Cochin   India       0\n",
            "\n",
            "[144 rows x 6 columns]\n"
          ]
        }
      ]
    },
    {
      "cell_type": "code",
      "source": [
        "df.isnull().sum()"
      ],
      "metadata": {
        "colab": {
          "base_uri": "https://localhost:8080/",
          "height": 272
        },
        "id": "rGscxorDN6xH",
        "outputId": "8c438182-8b6e-4ce6-dff4-46e197f7e1b6"
      },
      "execution_count": 149,
      "outputs": [
        {
          "output_type": "execute_result",
          "data": {
            "text/plain": [
              "firm       0\n",
              "Age        0\n",
              "Salary     0\n",
              "Place      0\n",
              "Country    0\n",
              "Gender     0\n",
              "dtype: int64"
            ],
            "text/html": [
              "<div>\n",
              "<style scoped>\n",
              "    .dataframe tbody tr th:only-of-type {\n",
              "        vertical-align: middle;\n",
              "    }\n",
              "\n",
              "    .dataframe tbody tr th {\n",
              "        vertical-align: top;\n",
              "    }\n",
              "\n",
              "    .dataframe thead th {\n",
              "        text-align: right;\n",
              "    }\n",
              "</style>\n",
              "<table border=\"1\" class=\"dataframe\">\n",
              "  <thead>\n",
              "    <tr style=\"text-align: right;\">\n",
              "      <th></th>\n",
              "      <th>0</th>\n",
              "    </tr>\n",
              "  </thead>\n",
              "  <tbody>\n",
              "    <tr>\n",
              "      <th>firm</th>\n",
              "      <td>0</td>\n",
              "    </tr>\n",
              "    <tr>\n",
              "      <th>Age</th>\n",
              "      <td>0</td>\n",
              "    </tr>\n",
              "    <tr>\n",
              "      <th>Salary</th>\n",
              "      <td>0</td>\n",
              "    </tr>\n",
              "    <tr>\n",
              "      <th>Place</th>\n",
              "      <td>0</td>\n",
              "    </tr>\n",
              "    <tr>\n",
              "      <th>Country</th>\n",
              "      <td>0</td>\n",
              "    </tr>\n",
              "    <tr>\n",
              "      <th>Gender</th>\n",
              "      <td>0</td>\n",
              "    </tr>\n",
              "  </tbody>\n",
              "</table>\n",
              "</div><br><label><b>dtype:</b> int64</label>"
            ]
          },
          "metadata": {},
          "execution_count": 149
        }
      ]
    },
    {
      "cell_type": "code",
      "source": [
        "# cleaned data\n",
        "len(df)"
      ],
      "metadata": {
        "colab": {
          "base_uri": "https://localhost:8080/"
        },
        "id": "yzqpvsK0RmKA",
        "outputId": "72d843de-eaaa-4202-885a-d05610335bd0"
      },
      "execution_count": 152,
      "outputs": [
        {
          "output_type": "execute_result",
          "data": {
            "text/plain": [
              "144"
            ]
          },
          "metadata": {},
          "execution_count": 152
        }
      ]
    },
    {
      "cell_type": "code",
      "source": [
        "# finding the outliers using IQR method\n",
        "\n",
        "def outliers(column):\n",
        " q1 = column.quantile(0.25)\n",
        " q3 = column.quantile(0.75)\n",
        " iqr=q3-q1\n",
        " upper_limit=q3+(1.5 * iqr)\n",
        " lower_limit=q1-(1.5 * iqr)\n",
        " return (column>upper_limit)|(column<lower_limit)\n",
        "\n",
        "outliers_age=outliers(df['Age'])\n",
        "outliers_salary=outliers(df['Age'])\n",
        "print(\"the number of outliers in Age :\",outliers_age.sum())\n",
        "print(\"The number of outliers in Salary :\",outliers_salary.sum())"
      ],
      "metadata": {
        "colab": {
          "base_uri": "https://localhost:8080/"
        },
        "id": "iBdO1Ek0QgvG",
        "outputId": "771db890-e49a-4464-a991-532cf64a14be"
      },
      "execution_count": 153,
      "outputs": [
        {
          "output_type": "stream",
          "name": "stdout",
          "text": [
            "the number of outliers in Age : 0\n",
            "The number of outliers in Salary : 0\n"
          ]
        }
      ]
    },
    {
      "cell_type": "code",
      "source": [
        "import matplotlib.pyplot as plt\n",
        "import seaborn as sns"
      ],
      "metadata": {
        "id": "1N9lXfrkW5me"
      },
      "execution_count": 154,
      "outputs": []
    },
    {
      "cell_type": "code",
      "source": [
        "# Box plot of age and salary for visual recognisiton of outliers\n",
        "\n",
        "sns.boxplot(df['Age'])\n",
        "plt.title(\"AGE\")"
      ],
      "metadata": {
        "colab": {
          "base_uri": "https://localhost:8080/",
          "height": 450
        },
        "id": "WMTl5-qtXKaz",
        "outputId": "0fae594b-d937-445a-cb79-98b2153779ba"
      },
      "execution_count": 155,
      "outputs": [
        {
          "output_type": "execute_result",
          "data": {
            "text/plain": [
              "Text(0.5, 1.0, 'AGE')"
            ]
          },
          "metadata": {},
          "execution_count": 155
        },
        {
          "output_type": "display_data",
          "data": {
            "text/plain": [
              "<Figure size 640x480 with 1 Axes>"
            ],
            "image/png": "[encoded data removed]"
          },
          "metadata": {}
        }
      ]
    },
    {
      "cell_type": "code",
      "source": [
        "sns.boxplot(df['Salary'])\n",
        "plt.title(\"Salary\")"
      ],
      "metadata": {
        "colab": {
          "base_uri": "https://localhost:8080/",
          "height": 450
        },
        "id": "hA7rEBceXleC",
        "outputId": "f3759cef-a015-4720-8e85-8cc22a3b0def"
      },
      "execution_count": 156,
      "outputs": [
        {
          "output_type": "execute_result",
          "data": {
            "text/plain": [
              "Text(0.5, 1.0, 'Salary')"
            ]
          },
          "metadata": {},
          "execution_count": 156
        },
        {
          "output_type": "display_data",
          "data": {
            "text/plain": [
              "<Figure size 640x480 with 1 Axes>"
            ],
            "image/png": "[encoded data removed]"
          },
          "metadata": {}
        }
      ]
    },
    {
      "cell_type": "markdown",
      "source": [
        "#Filter the data with age >40 and salary<5000\n",
        "#Plot the chart with age and salary\n"
      ],
      "metadata": {
        "id": "lduf25pRX4tT"
      }
    },
    {
      "cell_type": "code",
      "source": [
        "# Filter teh data with age greater than 40 and salary less than 5000\n",
        "data=df[(df['Age']>40)&(df[\"Salary\"]<5000) ]\n",
        "print(data)"
      ],
      "metadata": {
        "colab": {
          "base_uri": "https://localhost:8080/"
        },
        "id": "U8se16lSX6qZ",
        "outputId": "055feaa5-604e-4758-b61a-9582aec24f6e"
      },
      "execution_count": 157,
      "outputs": [
        {
          "output_type": "stream",
          "name": "stdout",
          "text": [
            "        firm   Age  Salary      Place Country  Gender\n",
            "21   Infosys  50.0  3184.0      Delhi   India       0\n",
            "32   Infosys  45.0  4034.0   Calcutta   India       0\n",
            "39   Infosys  41.0  3000.0     Mumbai   India       0\n",
            "50   Infosys  41.0  3000.0    Chennai   India       0\n",
            "57   Infosys  51.0  3184.0  Hyderabad   India       0\n",
            "68   Infosys  43.0  4034.0     Mumbai   India       0\n",
            "75   Infosys  44.0  3000.0     Cochin   India       0\n",
            "86   Infosys  41.0  3000.0      Delhi   India       0\n",
            "93   Infosys  54.0  3184.0     Mumbai   India       0\n",
            "104  Infosys  44.0  4034.0      Delhi   India       0\n",
            "122  Infosys  44.0  3234.0     Mumbai   India       0\n",
            "129  Infosys  50.0  3184.0   Calcutta   India       0\n",
            "138      CTS  44.0  3033.0     Cochin   India       0\n",
            "140  Infosys  44.0  4034.0  Hyderabad   India       0\n",
            "145  Infosys  44.0  4034.0      Delhi   India       1\n"
          ]
        }
      ]
    },
    {
      "cell_type": "markdown",
      "source": [
        "Plot the chart with age and salary\n"
      ],
      "metadata": {
        "id": "DdvE5h9Jb9x5"
      }
    },
    {
      "cell_type": "code",
      "source": [
        "# the graph\n",
        "\n",
        "plt.figure(figsize=(10,6))\n",
        "sns.scatterplot(data=data,x=\"Age\",y=\"Salary\",hue=\"firm\",palette=\"deep\" )\n",
        "plt.title('The salary vs age ')\n",
        "plt.xlabel=\"AGE\"\n",
        "plt.ylabel=\"Salary\"\n",
        "plt.grid()\n",
        "plt.show()"
      ],
      "metadata": {
        "colab": {
          "base_uri": "https://localhost:8080/",
          "height": 564
        },
        "id": "s5AucmvdZy0q",
        "outputId": "a9f7fb4e-429b-47d8-932c-81ac1f79a43a"
      },
      "execution_count": 158,
      "outputs": [
        {
          "output_type": "display_data",
          "data": {
            "text/plain": [
              "<Figure size 1000x600 with 1 Axes>"
            ],
            "image/png": "[encoded data removed]"
          },
          "metadata": {}
        }
      ]
    },
    {
      "cell_type": "markdown",
      "source": [
        "##Count the number of people from each place and represent it visually"
      ],
      "metadata": {
        "id": "Tybk40nrdc1I"
      }
    },
    {
      "cell_type": "code",
      "source": [
        "places=df['Place'].value_counts()\n",
        "print(\"no of peaple from eac place is :\",places)"
      ],
      "metadata": {
        "colab": {
          "base_uri": "https://localhost:8080/"
        },
        "id": "kbbKPw5PdK2o",
        "outputId": "51ee3b46-9723-4642-e9b5-2873f40f8010"
      },
      "execution_count": 159,
      "outputs": [
        {
          "output_type": "stream",
          "name": "stdout",
          "text": [
            "no of peaple from eac place is : Place\n",
            "Mumbai        34\n",
            "Calcutta      32\n",
            "Chennai       14\n",
            "Delhi         14\n",
            "Unknown       14\n",
            "Cochin        13\n",
            "Noida          8\n",
            "Hyderabad      8\n",
            "Podicherry     3\n",
            "Pune           2\n",
            "Bhopal         1\n",
            "Nagpur         1\n",
            "Name: count, dtype: int64\n"
          ]
        }
      ]
    },
    {
      "cell_type": "code",
      "source": [
        "# Plot the counts\n",
        "plt.figure(figsize=(15,6))\n",
        "sns.barplot(x=places.index,y=places.values)\n",
        "\n",
        "\n",
        "plt.title(\"Number of People from Each Place\")\n",
        "\n",
        "plt.grid(axis='y')\n",
        "plt.show()\n",
        ""
      ],
      "metadata": {
        "colab": {
          "base_uri": "https://localhost:8080/",
          "height": 564
        },
        "id": "H6ZzLcz8iLoU",
        "outputId": "bbe2bb33-b962-41c6-f301-e6ab2cc0a636"
      },
      "execution_count": 166,
      "outputs": [
        {
          "output_type": "display_data",
          "data": {
            "text/plain": [
              "<Figure size 1500x600 with 1 Axes>"
            ],
            "image/png": "[encoded data removed]"
          },
          "metadata": {}
        }
      ]
    },
    {
      "cell_type": "markdown",
      "source": [
        "##Convert categorical variables into numerical representations using techniques such as one-hot encoding, label encoding, making them suitable for analysis by machine learning algorithms"
      ],
      "metadata": {
        "id": "ckzSerX1cOvA"
      }
    },
    {
      "cell_type": "code",
      "source": [
        "from sklearn.preprocessing import LabelEncoder # installl the neccessary libarareie from"
      ],
      "metadata": {
        "id": "kTQ7wty7jVlM"
      },
      "execution_count": 167,
      "outputs": []
    },
    {
      "cell_type": "code",
      "source": [
        "label_encoder= LabelEncoder() # create leabel encoder object\n",
        "\n",
        "# applying label encoder to the respective column\n",
        "for column in ['firm','Place','Country']: # through for loop we can encode multiple column easily\n",
        "    df[column+\"_Encoded\"]=label_encoder.fit_transform(df[column])\n",
        "\n",
        "\n",
        "\n",
        "\n",
        "print(df)   # print the updated data frame"
      ],
      "metadata": {
        "colab": {
          "base_uri": "https://localhost:8080/"
        },
        "id": "khx8klCHkK5F",
        "outputId": "c73c252b-f9a8-4d60-86fd-3af625052f89"
      },
      "execution_count": 178,
      "outputs": [
        {
          "output_type": "stream",
          "name": "stdout",
          "text": [
            "        firm   Age  Salary     Place Country  Gender  firm_Encoded  \\\n",
            "0        TCS  20.0  5000.0   Chennai   India       0             3   \n",
            "1    Infosys  30.0  5000.0    Mumbai   India       0             2   \n",
            "2        TCS  35.0  2300.0  Calcutta   India       0             3   \n",
            "3    Infosys  40.0  3000.0     Delhi   India       0             2   \n",
            "4        TCS  23.0  4000.0    Mumbai   India       0             3   \n",
            "..       ...   ...     ...       ...     ...     ...           ...   \n",
            "142  Infosys  22.0  8202.0    Mumbai   India       0             2   \n",
            "143      TCS  33.0  9024.0  Calcutta   India       1             3   \n",
            "145  Infosys  44.0  4034.0     Delhi   India       1             2   \n",
            "146      TCS  33.0  5034.0    Mumbai   India       1             3   \n",
            "147  Infosys  22.0  8202.0    Cochin   India       0             2   \n",
            "\n",
            "     Place_Encoded  Country_Encoded  \n",
            "0                2                0  \n",
            "1                6                0  \n",
            "2                1                0  \n",
            "3                4                0  \n",
            "4                6                0  \n",
            "..             ...              ...  \n",
            "142              6                0  \n",
            "143              1                0  \n",
            "145              4                0  \n",
            "146              6                0  \n",
            "147              3                0  \n",
            "\n",
            "[144 rows x 9 columns]\n"
          ]
        }
      ]
    },
    {
      "cell_type": "markdown",
      "source": [
        "###One hot encoding"
      ],
      "metadata": {
        "id": "yvCfk2oKqsnC"
      }
    },
    {
      "cell_type": "code",
      "source": [
        "# Apply one-hot encoding to multiple columns\n",
        "df_one_hot = pd.get_dummies(df, columns=['firm', 'Place', 'Country'])\n",
        "\n",
        "print(df_one_hot)"
      ],
      "metadata": {
        "colab": {
          "base_uri": "https://localhost:8080/"
        },
        "id": "goK3F7jQq3-4",
        "outputId": "0f774923-d32c-4dd4-8603-dfc8ff6b1050"
      },
      "execution_count": 179,
      "outputs": [
        {
          "output_type": "stream",
          "name": "stdout",
          "text": [
            "      Age  Salary  Gender  firm_Encoded  Place_Encoded  Country_Encoded  \\\n",
            "0    20.0  5000.0       0             3              2                0   \n",
            "1    30.0  5000.0       0             2              6                0   \n",
            "2    35.0  2300.0       0             3              1                0   \n",
            "3    40.0  3000.0       0             2              4                0   \n",
            "4    23.0  4000.0       0             3              6                0   \n",
            "..    ...     ...     ...           ...            ...              ...   \n",
            "142  22.0  8202.0       0             2              6                0   \n",
            "143  33.0  9024.0       1             3              1                0   \n",
            "145  44.0  4034.0       1             2              4                0   \n",
            "146  33.0  5034.0       1             3              6                0   \n",
            "147  22.0  8202.0       0             2              3                0   \n",
            "\n",
            "     firm_CT  firm_CTS  firm_Infosys  firm_TCS  ...  Place_Cochin  \\\n",
            "0      False     False         False      True  ...         False   \n",
            "1      False     False          True     False  ...         False   \n",
            "2      False     False         False      True  ...         False   \n",
            "3      False     False          True     False  ...         False   \n",
            "4      False     False         False      True  ...         False   \n",
            "..       ...       ...           ...       ...  ...           ...   \n",
            "142    False     False          True     False  ...         False   \n",
            "143    False     False         False      True  ...         False   \n",
            "145    False     False          True     False  ...         False   \n",
            "146    False     False         False      True  ...         False   \n",
            "147    False     False          True     False  ...          True   \n",
            "\n",
            "     Place_Delhi  Place_Hyderabad  Place_Mumbai  Place_Nagpur  Place_Noida  \\\n",
            "0          False            False         False         False        False   \n",
            "1          False            False          True         False        False   \n",
            "2          False            False         False         False        False   \n",
            "3           True            False         False         False        False   \n",
            "4          False            False          True         False        False   \n",
            "..           ...              ...           ...           ...          ...   \n",
            "142        False            False          True         False        False   \n",
            "143        False            False         False         False        False   \n",
            "145         True            False         False         False        False   \n",
            "146        False            False          True         False        False   \n",
            "147        False            False         False         False        False   \n",
            "\n",
            "     Place_Podicherry  Place_Pune  Place_Unknown  Country_India  \n",
            "0               False       False          False           True  \n",
            "1               False       False          False           True  \n",
            "2               False       False          False           True  \n",
            "3               False       False          False           True  \n",
            "4               False       False          False           True  \n",
            "..                ...         ...            ...            ...  \n",
            "142             False       False          False           True  \n",
            "143             False       False          False           True  \n",
            "145             False       False          False           True  \n",
            "146             False       False          False           True  \n",
            "147             False       False          False           True  \n",
            "\n",
            "[144 rows x 24 columns]\n"
          ]
        }
      ]
    },
    {
      "cell_type": "markdown",
      "source": [
        "##After the process of encoding, perform the scaling of the features using standardscaler and minmaxscaler."
      ],
      "metadata": {
        "id": "cI7QhnSusYJY"
      }
    },
    {
      "cell_type": "code",
      "source": [
        "from sklearn.preprocessing import StandardScaler, MinMaxScaler\n",
        "\n",
        "# Separate numerical features for scaling\n",
        "numerical_columns = ['Salary', 'Age',\"firm_Encoded\",'Place_Encoded']\n",
        "\n",
        "# create object\n",
        "standard_scaler = StandardScaler() # create object\n",
        "minimax_scaler = MinMaxScaler() # create object\n",
        "\n",
        "# copy of database\n",
        "df_standard_scaled=df.copy()\n",
        "\n",
        "# apply standard scaler to the database\n",
        "df_standard_scaled[numerical_columns]=standard_scaler.fit_transform(df[numerical_columns])\n",
        "\n",
        "df_minimax_scaled=df.copy()\n",
        "df_minimax_scaled[numerical_columns]=minimax_scaler.fit_transform(df[numerical_columns])\n",
        "\n",
        "\n",
        "# print the rsults\n",
        "print(\"After standardscaler \\n\",df_standard_scaled)\n",
        "\n"
      ],
      "metadata": {
        "colab": {
          "base_uri": "https://localhost:8080/"
        },
        "id": "_epyEHQ0sm9Y",
        "outputId": "7f0d6dcd-1846-4f0d-dd99-64d269f229d5"
      },
      "execution_count": 190,
      "outputs": [
        {
          "output_type": "stream",
          "name": "stdout",
          "text": [
            "After standardscaler \n",
            "         firm       Age    Salary     Place Country  Gender  firm_Encoded  \\\n",
            "0        TCS -1.484676 -0.100827   Chennai   India       0      0.851407   \n",
            "1    Infosys -0.267174 -0.100827    Mumbai   India       0     -0.233572   \n",
            "2        TCS  0.341577 -1.243735  Calcutta   India       0      0.851407   \n",
            "3    Infosys  0.950328 -0.947426     Delhi   India       0     -0.233572   \n",
            "4        TCS -1.119426 -0.524127    Mumbai   India       0      0.851407   \n",
            "..       ...       ...       ...       ...     ...     ...           ...   \n",
            "142  Infosys -1.241176  1.254576    Mumbai   India       0     -0.233572   \n",
            "143      TCS  0.098077  1.602528  Calcutta   India       1      0.851407   \n",
            "145  Infosys  1.437329 -0.509734     Delhi   India       1     -0.233572   \n",
            "146      TCS  0.098077 -0.086435    Mumbai   India       1      0.851407   \n",
            "147  Infosys -1.241176  1.254576    Cochin   India       0     -0.233572   \n",
            "\n",
            "     Place_Encoded  Country_Encoded  \n",
            "0        -0.845693                0  \n",
            "1         0.426159                0  \n",
            "2        -1.163656                0  \n",
            "3        -0.209767                0  \n",
            "4         0.426159                0  \n",
            "..             ...              ...  \n",
            "142       0.426159                0  \n",
            "143      -1.163656                0  \n",
            "145      -0.209767                0  \n",
            "146       0.426159                0  \n",
            "147      -0.527730                0  \n",
            "\n",
            "[144 rows x 9 columns]\n"
          ]
        }
      ]
    },
    {
      "cell_type": "code",
      "source": [
        "print(\"\\nAfter minimax scaled :\\n\",df_minimax_scaled)"
      ],
      "metadata": {
        "colab": {
          "base_uri": "https://localhost:8080/"
        },
        "id": "juL60S2-yBp7",
        "outputId": "96ca4b72-f7a9-4ab8-81cd-63bc503c2152"
      },
      "execution_count": 189,
      "outputs": [
        {
          "output_type": "stream",
          "name": "stdout",
          "text": [
            "\n",
            "After minimax scaled :\n",
            "         firm       Age    Salary     Place Country  Gender  firm_Encoded  \\\n",
            "0        TCS  0.081081  0.445089   Chennai   India       0          0.75   \n",
            "1    Infosys  0.351351  0.445089    Mumbai   India       0          0.50   \n",
            "2        TCS  0.486486  0.137817  Calcutta   India       0          0.75   \n",
            "3    Infosys  0.621622  0.217480     Delhi   India       0          0.50   \n",
            "4        TCS  0.162162  0.331285    Mumbai   India       0          0.75   \n",
            "..       ...       ...       ...       ...     ...     ...           ...   \n",
            "142  Infosys  0.135135  0.809491    Mumbai   India       0          0.50   \n",
            "143      TCS  0.432432  0.903039  Calcutta   India       1          0.75   \n",
            "145  Infosys  0.729730  0.335154     Delhi   India       1          0.50   \n",
            "146      TCS  0.432432  0.448959    Mumbai   India       1          0.75   \n",
            "147  Infosys  0.135135  0.809491    Cochin   India       0          0.50   \n",
            "\n",
            "     Place_Encoded  Country_Encoded  \n",
            "0         0.181818                0  \n",
            "1         0.545455                0  \n",
            "2         0.090909                0  \n",
            "3         0.363636                0  \n",
            "4         0.545455                0  \n",
            "..             ...              ...  \n",
            "142       0.545455                0  \n",
            "143       0.090909                0  \n",
            "145       0.363636                0  \n",
            "146       0.545455                0  \n",
            "147       0.272727                0  \n",
            "\n",
            "[144 rows x 9 columns]\n"
          ]
        }
      ]
    }
  ]
}